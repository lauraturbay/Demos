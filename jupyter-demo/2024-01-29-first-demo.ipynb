{
 "cells": [
  {
   "cell_type": "markdown",
   "id": "0121d472",
   "metadata": {},
   "source": [
    "# First Demo\n",
    "\n",
    "## Demonstrating how to use Jupyter notebooks to Spring Data 2024.\n",
    "\n",
    "Data was <a href=\"https://data.cityofnewyork.us/Business/Legally-Operating-Businesses/w7w3-xahh/about_data\">  collected from Department of Consumer and Worker Protection on </a> January 29 2024.\n",
    "\n",
    "- item 1\n",
    "\n",
    "<img src=\"https://static01.nyt.com/images/2024/01/29/multimedia/29Gas-Station-Food-HP-ckbm/29Gas-Station-Food-HP-ckbm-threeByTwoMediumAt2X.jpg?format=pjpg&quality=75&auto=webp&disable=upscale\">"
   ]
  },
  {
   "cell_type": "code",
   "execution_count": 1,
   "id": "f7a2bc22",
   "metadata": {},
   "outputs": [
    {
     "name": "stdout",
     "output_type": "stream",
     "text": [
      "Hello world!\n"
     ]
    }
   ],
   "source": [
    "print(\"Hello world!\")"
   ]
  },
  {
   "cell_type": "code",
   "execution_count": 2,
   "id": "d5e61f9f",
   "metadata": {},
   "outputs": [
    {
     "data": {
      "text/plain": [
       "700"
      ]
     },
     "execution_count": 2,
     "metadata": {},
     "output_type": "execute_result"
    }
   ],
   "source": [
    "1200-500"
   ]
  },
  {
   "cell_type": "code",
   "execution_count": 3,
   "id": "b89dcd1e",
   "metadata": {},
   "outputs": [
    {
     "data": {
      "text/plain": [
       "100000000"
      ]
     },
     "execution_count": 3,
     "metadata": {},
     "output_type": "execute_result"
    }
   ],
   "source": [
    "100_000_000"
   ]
  },
  {
   "cell_type": "code",
   "execution_count": 8,
   "id": "43f15db0",
   "metadata": {},
   "outputs": [],
   "source": [
    "monthly_rent = 500"
   ]
  },
  {
   "cell_type": "code",
   "execution_count": 9,
   "id": "b99b0c87",
   "metadata": {},
   "outputs": [
    {
     "data": {
      "text/plain": [
       "500"
      ]
     },
     "execution_count": 9,
     "metadata": {},
     "output_type": "execute_result"
    }
   ],
   "source": [
    "monthly_rent"
   ]
  },
  {
   "cell_type": "code",
   "execution_count": 6,
   "id": "425900ad",
   "metadata": {},
   "outputs": [],
   "source": [
    "monthly_income= 1_200"
   ]
  },
  {
   "cell_type": "code",
   "execution_count": 7,
   "id": "4f4f8576",
   "metadata": {},
   "outputs": [
    {
     "data": {
      "text/plain": [
       "1200"
      ]
     },
     "execution_count": 7,
     "metadata": {},
     "output_type": "execute_result"
    }
   ],
   "source": [
    "monthly_income"
   ]
  },
  {
   "cell_type": "code",
   "execution_count": 11,
   "id": "fef4c2c0",
   "metadata": {},
   "outputs": [],
   "source": [
    "balance=monthly_income - monthly_rent"
   ]
  },
  {
   "cell_type": "code",
   "execution_count": 12,
   "id": "dda3dfd5",
   "metadata": {},
   "outputs": [
    {
     "data": {
      "text/plain": [
       "700"
      ]
     },
     "execution_count": 12,
     "metadata": {},
     "output_type": "execute_result"
    }
   ],
   "source": [
    "balance"
   ]
  },
  {
   "cell_type": "code",
   "execution_count": 13,
   "id": "54a97bff",
   "metadata": {},
   "outputs": [
    {
     "data": {
      "text/plain": [
       "280.0"
      ]
     },
     "execution_count": 13,
     "metadata": {},
     "output_type": "execute_result"
    }
   ],
   "source": [
    "balance * .4"
   ]
  },
  {
   "cell_type": "code",
   "execution_count": 14,
   "id": "4a6cee54",
   "metadata": {},
   "outputs": [
    {
     "data": {
      "text/plain": [
       "700"
      ]
     },
     "execution_count": 14,
     "metadata": {},
     "output_type": "execute_result"
    }
   ],
   "source": [
    "balance"
   ]
  },
  {
   "cell_type": "code",
   "execution_count": null,
   "id": "e600af01",
   "metadata": {},
   "outputs": [],
   "source": []
  },
  {
   "cell_type": "code",
   "execution_count": null,
   "id": "3d4dbfb8",
   "metadata": {},
   "outputs": [],
   "source": []
  }
 ],
 "metadata": {
  "kernelspec": {
   "display_name": "Python 3 (ipykernel)",
   "language": "python",
   "name": "python3"
  },
  "language_info": {
   "codemirror_mode": {
    "name": "ipython",
    "version": 3
   },
   "file_extension": ".py",
   "mimetype": "text/x-python",
   "name": "python",
   "nbconvert_exporter": "python",
   "pygments_lexer": "ipython3",
   "version": "3.11.5"
  }
 },
 "nbformat": 4,
 "nbformat_minor": 5
}
